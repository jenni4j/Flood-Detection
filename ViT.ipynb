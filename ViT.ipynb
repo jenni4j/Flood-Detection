{
 "cells": [
  {
   "cell_type": "code",
   "execution_count": 32,
   "id": "5d0d32e3-0a75-4835-a12b-879bb8edfd4f",
   "metadata": {
    "execution": {
     "iopub.execute_input": "2022-12-09T20:39:35.443941Z",
     "iopub.status.busy": "2022-12-09T20:39:35.443406Z",
     "iopub.status.idle": "2022-12-09T20:39:35.450500Z",
     "shell.execute_reply": "2022-12-09T20:39:35.448693Z",
     "shell.execute_reply.started": "2022-12-09T20:39:35.443872Z"
    }
   },
   "outputs": [],
   "source": [
    "# >>>>>>>>>>>>>>>>>>>>>>> SECTION 0: Links of code used <<<<<<<<<<<<<<<<<<<<<<< #\n",
    "\n",
    "# https://hsg-aiml.github.io/2022/06/16/Self_Supervised_Vision_Transformers_for_Land_cover_Segmentation_and_Classification.html\n",
    "# https://github.com/HSG-AIML/SSLTransformerRS\n"
   ]
  },
  {
   "cell_type": "code",
   "execution_count": 33,
   "id": "54e809b4-1edc-45a3-9bd6-f593012f6f77",
   "metadata": {
    "execution": {
     "iopub.execute_input": "2022-12-09T20:39:35.453494Z",
     "iopub.status.busy": "2022-12-09T20:39:35.453117Z",
     "iopub.status.idle": "2022-12-09T20:39:35.462620Z",
     "shell.execute_reply": "2022-12-09T20:39:35.460239Z",
     "shell.execute_reply.started": "2022-12-09T20:39:35.453467Z"
    }
   },
   "outputs": [
    {
     "ename": "SyntaxError",
     "evalue": "invalid syntax (1090859972.py, line 4)",
     "output_type": "error",
     "traceback": [
      "\u001b[0;36m  Input \u001b[0;32mIn [33]\u001b[0;36m\u001b[0m\n\u001b[0;31m    pip install -r requirements.txt\u001b[0m\n\u001b[0m        ^\u001b[0m\n\u001b[0;31mSyntaxError\u001b[0m\u001b[0;31m:\u001b[0m invalid syntax\n"
     ]
    }
   ],
   "source": [
    "# >>>>>>>>>>>>>>>>>>>>>>> SECTION 1: Ensure requirements are installed <<<<<<<<<<<<<<<<<<<<<<< #\n",
    "# Specific to Transformer\n",
    "\n",
    "pip install -r requirements.txt"
   ]
  },
  {
   "cell_type": "code",
   "execution_count": null,
   "id": "6a17c9ff-b206-428e-9364-36f6df27b251",
   "metadata": {
    "execution": {
     "iopub.status.busy": "2022-12-09T20:39:35.463938Z",
     "iopub.status.idle": "2022-12-09T20:39:35.464525Z",
     "shell.execute_reply": "2022-12-09T20:39:35.464251Z",
     "shell.execute_reply.started": "2022-12-09T20:39:35.464233Z"
    }
   },
   "outputs": [],
   "source": [
    "# >>>>>>>>>>>>>>>>>>>>>>> SECTION 2: Import packages <<<<<<<<<<<<<<<<<<<<<<< #\n",
    "# Specific to Transformer\n",
    "\n",
    "# Import needed packages\n",
    "import argparse\n",
    "import json\n",
    "import os\n",
    "import random\n",
    "import numpy as np\n",
    "import torch\n",
    "import wandb\n",
    "import torch.nn as nn\n",
    "import torch.nn.functional as F\n",
    "from distutils.util import strtobool\n",
    "from tqdm import tqdm\n",
    "from torchvision.models import resnet18, resnet50\n",
    "from torchvision import transforms\n",
    "import torchvision.transforms.functional as F\n",
    "from PIL import Image"
   ]
  },
  {
   "cell_type": "code",
   "execution_count": null,
   "id": "ad41828e-ff0d-4cf8-817e-29569c09946e",
   "metadata": {
    "execution": {
     "iopub.status.busy": "2022-12-09T20:39:35.465712Z",
     "iopub.status.idle": "2022-12-09T20:39:35.466242Z",
     "shell.execute_reply": "2022-12-09T20:39:35.466005Z",
     "shell.execute_reply.started": "2022-12-09T20:39:35.465982Z"
    }
   },
   "outputs": [],
   "source": [
    "# >>>>>>>>>>>>>>>>>>>>>>> SECTION 3: Data configurations <<<<<<<<<<<<<<<<<<<<<<< #\n",
    "# Specific to Transformer\n",
    "\n",
    "data_config = {\n",
    "    'num_classes': 2, # number of classes in the dataset.\n",
    "    'clip_sample_values': True, # clip (limit) values\n",
    "    'train_used_data_fraction': 1, # fraction of data to use, should be in the range [0, 1]\n",
    "    'val_used_data_fraction': 1,\n",
    "    'image_px_size': 224, # image size (224x224)\n",
    "    'cover_all_parts_train': True, # if True, if image_px_size is not 224 during training, we use a random crop of the image\n",
    "    'cover_all_parts_validation': True, # if True, if image_px_size is not 224 during validation, we use a non-overlapping sliding window to cover the entire image\n",
    "    'seed': 42,\n",
    "} "
   ]
  },
  {
   "cell_type": "code",
   "execution_count": null,
   "id": "df872dd4-33b3-467d-865c-b3e453d8c75f",
   "metadata": {
    "execution": {
     "iopub.status.busy": "2022-12-09T20:39:35.468424Z",
     "iopub.status.idle": "2022-12-09T20:39:35.468937Z",
     "shell.execute_reply": "2022-12-09T20:39:35.468714Z",
     "shell.execute_reply.started": "2022-12-09T20:39:35.468687Z"
    }
   },
   "outputs": [],
   "source": [
    "# >>>>>>>>>>>>>>>>>>>>>>> SECTION 4: Ensure deterministic behavior <<<<<<<<<<<<<<<<<<<<<<< #\n",
    "# Specfic to Transformer\n",
    "\n",
    "# Ensure deterministic behavior\n",
    "random.seed(data_config['seed'])\n",
    "np.random.seed(data_config['seed'])\n",
    "torch.manual_seed(data_config['seed'])\n",
    "torch.cuda.manual_seed_all(data_config['seed'])"
   ]
  },
  {
   "cell_type": "code",
   "execution_count": null,
   "id": "dcb481db-8ae0-422c-9f7b-9ca6189f0001",
   "metadata": {
    "execution": {
     "iopub.status.busy": "2022-12-09T20:39:35.470437Z",
     "iopub.status.idle": "2022-12-09T20:39:35.470898Z",
     "shell.execute_reply": "2022-12-09T20:39:35.470727Z",
     "shell.execute_reply.started": "2022-12-09T20:39:35.470707Z"
    }
   },
   "outputs": [],
   "source": [
    "# >>>>>>>>>>>>>>>>>>>>>>> SECTION 5: Functions of data download <<<<<<<<<<<<<<<<<<<<<<< #\n",
    "# Slightly specific to Transformer - only change is I added a variable called im_size, which is set to 224x224 in order for the Transformer pretraining code to work\n",
    "\n",
    "import torch\n",
    "from torchvision import transforms\n",
    "import torch.nn.functional as fun\n",
    "import torchvision.transforms.functional as F\n",
    "import random\n",
    "from PIL import Image\n",
    "import numpy as np\n",
    "\n",
    "\n",
    "class InMemoryDataset(torch.utils.data.Dataset):\n",
    "  \n",
    "  def __init__(self, data_list, preprocess_func, source='S1', select_bands=(0,1,2), im_size=224):\n",
    "    self.data_list = data_list\n",
    "    self.preprocess_func = preprocess_func\n",
    "    self.source = source\n",
    "    self.select_bands = select_bands\n",
    "    self.im_size = im_size\n",
    "  \n",
    "  def __getitem__(self, i):\n",
    "    return self.preprocess_func(self.data_list[i], self.source, self.select_bands)\n",
    "  \n",
    "  def __len__(self):\n",
    "    return len(self.data_list)\n",
    "\n",
    "\n",
    "def processAndAugment(data, source='S1', select_bands=(0,1,2), im_size=224): \n",
    "  (x,y) = data\n",
    "  im,label = x.copy(), y.copy()\n",
    "  label = label.astype(np.float)\n",
    "  \n",
    "  if source == 'S1':\n",
    "    bands = 2\n",
    "  else:\n",
    "    bands = len(select_bands)\n",
    "\n",
    "  # convert to PIL for easier transforms\n",
    "  ims = []\n",
    "  for i in range(bands):\n",
    "    ims.append(Image.fromarray(im[i]))\n",
    "\n",
    "  label = Image.fromarray(label.squeeze())      \n",
    "\n",
    "  # Get params for random transforms\n",
    "  i, j, h, w = transforms.RandomCrop.get_params(ims[0], (im_size, im_size))\n",
    "\n",
    "\n",
    "  for i in range(bands):\n",
    "    ims[i] = F.crop(ims[i], i, j, h, w)\n",
    "  label = F.crop(label, i, j, h, w)\n",
    " \n",
    "  if random.random() > 0.5:\n",
    "    for i in range(bands):\n",
    "      ims[i] = F.hflip(ims[i])\n",
    "    label = F.hflip(label)\n",
    "\n",
    "  if random.random() > 0.5:\n",
    "    for i in range(bands):\n",
    "      ims[i] = F.vflip(ims[i])\n",
    "    label = F.vflip(label)\n",
    "\n",
    "  if random.random() > 0.75:\n",
    "    rotation = random.choice((90, 180, 270))\n",
    "    for i in range(bands): \n",
    "      ims[i] = F.rotate(ims[i], rotation)\n",
    "    label = F.rotate(label, rotation)\n",
    "  \n",
    "  \"\"\"if random.random() > 0.2:\n",
    "    for i in range(bands):\n",
    "      ims[i] = F.gaussian_blur(ims[i], 7)\"\"\"\n",
    "\n",
    "  # What does this do\n",
    "  if source == 'S1':\n",
    "    norm = transforms.Normalize([0.6851, 0.5235], [0.0820, 0.1102])\n",
    "  else: #TODO band selector\n",
    "    mean_list = np.array([0.16269160022432763, 0.13960347063125136, 0.13640611841716485, \n",
    "    0.1218228479188587, 0.14660729066303788, 0.23869029753700105, 0.284561256276994, 0.2622957968923778, \n",
    "    0.3077482214806557, 0.048687436781988974, 0.006377861007811543, 0.20306476302374007, 0.11791660722096743])\n",
    "    std_list = np.array([0.07001713384623806, 0.07390945268205054, 0.07352482387959473, 0.08649366949997794, \n",
    "    0.07768803358037298, 0.09213683430927469, 0.10843734609719749, 0.10226341800670553, 0.1196442553176325, \n",
    "    0.03366110543131479, 0.014399923282248634, 0.09808706134697646, 0.07646083655721092])\n",
    "    norm = transforms.Normalize(mean_list[np.array(select_bands)], std_list[np.array(select_bands)])\n",
    "    \n",
    "\n",
    "  blur = transforms.GaussianBlur(7)\n",
    "\n",
    "  ims_T = []\n",
    "  for i in range(bands):\n",
    "    ims_T.append(transforms.ToTensor()(ims[i]).squeeze())\n",
    "  \n",
    "  im = torch.stack(ims_T)\n",
    "  if random.random() > .2:\n",
    "    im = blur(im)\n",
    "  im = norm(im)\n",
    "  \n",
    "  label = transforms.ToTensor()(label).squeeze()\n",
    "  if torch.sum(label.gt(.003) * label.lt(.004)):\n",
    "    label *= 255\n",
    "  label = label.round()\n",
    "\n",
    "  return im, label\n",
    "\n",
    "\n",
    "def processTestIm(data, source='S1', select_bands=(0,1,2), im_size=224): \n",
    "  if source == 'S1':\n",
    "    bands = 2\n",
    "  else:\n",
    "    bands = len(select_bands)\n",
    "  \n",
    "  (x,y) = data\n",
    "  im,label = x.copy(), y.copy()\n",
    "  label = label.astype(np.float)\n",
    "  if source == 'S1':\n",
    "    norm = transforms.Normalize([0.6851, 0.5235], [0.0820, 0.1102])\n",
    "  else: #TODO band selector\n",
    "    mean_list = np.array([0.16269160022432763, 0.13960347063125136, 0.13640611841716485, \n",
    "    0.1218228479188587, 0.14660729066303788, 0.23869029753700105, 0.284561256276994, 0.2622957968923778, \n",
    "    0.3077482214806557, 0.048687436781988974, 0.006377861007811543, 0.20306476302374007, 0.11791660722096743])\n",
    "    std_list = np.array([0.07001713384623806, 0.07390945268205054, 0.07352482387959473, 0.08649366949997794, \n",
    "    0.07768803358037298, 0.09213683430927469, 0.10843734609719749, 0.10226341800670553, 0.1196442553176325, \n",
    "    0.03366110543131479, 0.014399923282248634, 0.09808706134697646, 0.07646083655721092])\n",
    "    norm = transforms.Normalize(mean_list[np.array(select_bands)], std_list[np.array(select_bands)])\n",
    "\n",
    "\n",
    "  # convert to PIL for easier transforms\n",
    "  im_c = []\n",
    "  for i in range(bands):\n",
    "    im_c.append(Image.fromarray(im[i]).resize((512,512)))\n",
    "\n",
    "  label = Image.fromarray(label.squeeze()).resize((512,512))\n",
    "\n",
    "  im_cs = []\n",
    "  for i in range(bands):\n",
    "    im_cs.append([F.crop(im_c[i], 0, 0, im_size, im_size), F.crop(im_c[i], 0, im_size, im_size, im_size),\n",
    "            F.crop(im_c[i], im_size, 0, im_size, im_size), F.crop(im_c[i], im_size, im_size, im_size, im_size)])\n",
    "  labels = [F.crop(label, 0, 0, im_size, im_size), F.crop(label, 0, im_size, im_size, im_size),\n",
    "            F.crop(label, im_size, 0, im_size, im_size), F.crop(label, im_size, im_size, im_size, im_size)]\n",
    "\n",
    "  ims = []\n",
    "  for i in range(4):\n",
    "    temp = []\n",
    "    for j in range(bands):\n",
    "      temp.append(transforms.ToTensor()(im_cs[j][i]).squeeze())\n",
    "    ims.append(torch.stack(temp))\n",
    "      \n",
    "  \n",
    "  ims = [norm(im) for im in ims]\n",
    "  ims = torch.stack(ims)\n",
    "  \n",
    "  labels = [(transforms.ToTensor()(label).squeeze()) for label in labels]\n",
    "  labels = torch.stack(labels)\n",
    "  \n",
    "  \n",
    "  if torch.sum(labels.gt(.003) * labels.lt(.004)):\n",
    "    labels *= 255\n",
    "  labels = labels.round()\n",
    "  \n",
    "  return ims, labels"
   ]
  },
  {
   "cell_type": "code",
   "execution_count": 34,
   "id": "a16251a5-7eb0-4fdf-90a9-0aa947b35ac2",
   "metadata": {
    "execution": {
     "iopub.execute_input": "2022-12-09T20:39:35.521500Z",
     "iopub.status.busy": "2022-12-09T20:39:35.521134Z",
     "iopub.status.idle": "2022-12-09T20:39:35.537470Z",
     "shell.execute_reply": "2022-12-09T20:39:35.535675Z",
     "shell.execute_reply.started": "2022-12-09T20:39:35.521467Z"
    }
   },
   "outputs": [],
   "source": [
    "# >>>>>>>>>>>>>>>>>>>>>>> SECTION 6: Define data download functions <<<<<<<<<<<<<<<<<<<<<<< \n",
    "# Not specific to Transformer\n",
    "\n",
    "from time import time\n",
    "import csv\n",
    "import os\n",
    "import numpy as np\n",
    "import rasterio\n",
    "\n",
    "def getArrFlood(fname):\n",
    "  x = rasterio.open(fname).read()\n",
    "  return x\n",
    "\n",
    "def download_flood_water_data_from_list(l, source, select_bands): #TODO band selector\n",
    "\n",
    "  i = 0\n",
    "  tot_nan = 0\n",
    "  tot_good = 0\n",
    "  flood_data = []\n",
    "  for (im_fname, mask_fname) in l:\n",
    "    # if not os.path.exists(os.path.join(\"data/\", im_fname)):\n",
    "      # print('No data for ', im_fname)\n",
    "      # continue\n",
    "\n",
    "    # temp_x = getArrFlood(os.path.join(\"data/\", im_fname))\n",
    "    temp_x = getArrFlood(im_fname)\n",
    "    #TODO band selector slice applicable bands here\n",
    "    if source == 'S1':\n",
    "      arr_x = np.nan_to_num(temp_x)\n",
    "    else:\n",
    "      arr_x = np.nan_to_num(temp_x)[select_bands,:,:]\n",
    "    # arr_y = getArrFlood(os.path.join(\"data/\", mask_fname))\n",
    "    arr_y = getArrFlood(mask_fname)\n",
    "    arr_y[arr_y == -1] = 255 \n",
    "    \n",
    "    if source == 'S1':\n",
    "      arr_x = np.clip(arr_x, -50, 1)\n",
    "      arr_x = (arr_x + 50) / 51\n",
    "    else:\n",
    "      arr_x = arr_x / 10000\n",
    "      \n",
    "    if i % 100 == 0:\n",
    "      print(im_fname, mask_fname)\n",
    "    i += 1\n",
    "    flood_data.append((arr_x,arr_y))\n",
    "  #print(flood_data)\n",
    "  return flood_data\n",
    "\n",
    "# Isaac note: Change the fname to be the path to the weakly labeled csv (S1_Weak_data_Otsu.csv or S2_Index_Label_Weak.csv)\n",
    "def load_flood_train_data(input_root, label_root, source='S1', select_bands=(0,1,2)):\n",
    "  # fname = \"splits/flood_handlabeled/flood_train_data.csv\"\n",
    "  fname = \"splits/flood_train_data.csv\"\n",
    "  training_files = []\n",
    "  with open(fname) as f:\n",
    "    for line in csv.reader(f):\n",
    "      # training_files.append(tuple((input_root+line[0], label_root+line[1])))\n",
    "      training_files.append(tuple((input_root+'/'+line[0], label_root+'/'+line[1])))\n",
    "\n",
    "\n",
    "  return download_flood_water_data_from_list(training_files, source, select_bands)\n",
    "\n",
    "def load_flood_valid_data(input_root, label_root, source='S1', select_bands=(0,1,2)):\n",
    "  # fname = \"splits/flood_handlabeled/flood_valid_data.csv\"\n",
    "  fname = \"splits/flood_valid_data.csv\"\n",
    "  validation_files = []\n",
    "  with open(fname) as f:\n",
    "    for line in csv.reader(f):\n",
    "      # validation_files.append(tuple((input_root+line[0], label_root+line[1])))\n",
    "      validation_files.append(tuple((input_root+'/'+line[0], label_root+'/'+line[1])))\n",
    "\n",
    "  return download_flood_water_data_from_list(validation_files, source, select_bands)\n",
    "\n",
    "def load_flood_test_data(input_root, label_root, source='S1', select_bands=(0,1,2)):\n",
    "  # fname = \"flood_test_data.csv\"\n",
    "  fname = \"splits/flood_test_data.csv\"\n",
    "  testing_files = []\n",
    "  with open(fname) as f:\n",
    "    for line in csv.reader(f):\n",
    "      # testing_files.append(tuple((input_root+line[0], label_root+line[1])))\n",
    "      testing_files.append(tuple((input_root+'/'+line[0], label_root+'/'+line[1])))\n",
    "  \n",
    "  return download_flood_water_data_from_list(testing_files, source, select_bands)"
   ]
  },
  {
   "cell_type": "code",
   "execution_count": 35,
   "id": "af37f25c-710c-400b-9e12-ef2071b126df",
   "metadata": {
    "execution": {
     "iopub.execute_input": "2022-12-09T20:39:35.540942Z",
     "iopub.status.busy": "2022-12-09T20:39:35.540395Z",
     "iopub.status.idle": "2022-12-09T20:39:35.550746Z",
     "shell.execute_reply": "2022-12-09T20:39:35.548263Z",
     "shell.execute_reply.started": "2022-12-09T20:39:35.540844Z"
    }
   },
   "outputs": [
    {
     "name": "stdout",
     "output_type": "stream",
     "text": [
      "/\n"
     ]
    }
   ],
   "source": [
    "cd .."
   ]
  },
  {
   "cell_type": "code",
   "execution_count": 36,
   "id": "a48489be-2aa9-418e-bd3e-83fd51a5696e",
   "metadata": {
    "execution": {
     "iopub.execute_input": "2022-12-09T20:39:35.552703Z",
     "iopub.status.busy": "2022-12-09T20:39:35.552251Z",
     "iopub.status.idle": "2022-12-09T20:39:35.560958Z",
     "shell.execute_reply": "2022-12-09T20:39:35.559668Z",
     "shell.execute_reply.started": "2022-12-09T20:39:35.552678Z"
    }
   },
   "outputs": [
    {
     "name": "stdout",
     "output_type": "stream",
     "text": [
      "/datasets\n"
     ]
    }
   ],
   "source": [
    "cd datasets"
   ]
  },
  {
   "cell_type": "code",
   "execution_count": 37,
   "id": "2735cb84-4f26-4b35-9716-5f5d274a8b00",
   "metadata": {
    "execution": {
     "iopub.execute_input": "2022-12-09T20:39:35.563732Z",
     "iopub.status.busy": "2022-12-09T20:39:35.563236Z",
     "iopub.status.idle": "2022-12-09T20:39:36.363829Z",
     "shell.execute_reply": "2022-12-09T20:39:36.362348Z",
     "shell.execute_reply.started": "2022-12-09T20:39:35.563732Z"
    }
   },
   "outputs": [
    {
     "name": "stdout",
     "output_type": "stream",
     "text": [
      "\u001b[0m\u001b[01;34mcheckpoints\u001b[0m/  \u001b[01;34mflood_events\u001b[0m/  \u001b[01;34mlabelhand\u001b[0m/  \u001b[01;34mpretrain\u001b[0m/  \u001b[01;34ms1hand\u001b[0m/  \u001b[01;34ms2hand\u001b[0m/  \u001b[01;34msplits\u001b[0m/\n"
     ]
    }
   ],
   "source": [
    "ls"
   ]
  },
  {
   "cell_type": "code",
   "execution_count": 38,
   "id": "36f48204-f259-42ba-b204-ea2f0fd4c268",
   "metadata": {
    "execution": {
     "iopub.execute_input": "2022-12-09T20:39:36.365837Z",
     "iopub.status.busy": "2022-12-09T20:39:36.365548Z",
     "iopub.status.idle": "2022-12-09T20:39:47.422364Z",
     "shell.execute_reply": "2022-12-09T20:39:47.421190Z",
     "shell.execute_reply.started": "2022-12-09T20:39:36.365827Z"
    }
   },
   "outputs": [
    {
     "name": "stdout",
     "output_type": "stream",
     "text": [
      "s1hand/Ghana_103272_S1Hand.tif labelhand/Ghana_103272_LabelHand.tif\n",
      "s1hand/Pakistan_132143_S1Hand.tif labelhand/Pakistan_132143_LabelHand.tif\n",
      "s1hand/Sri-Lanka_916628_S1Hand.tif labelhand/Sri-Lanka_916628_LabelHand.tif\n",
      "s1hand/Ghana_5079_S1Hand.tif labelhand/Ghana_5079_LabelHand.tif\n"
     ]
    }
   ],
   "source": [
    "# >>>>>>>>>>>>>>>>>>>>>>> SECTION 7: Perform data download <<<<<<<<<<<<<<<<<<<<<<< #\n",
    "# Not specific to Transformer\n",
    "\n",
    "# Isaac note: change the train data arguments here to be the path to the weakly labeled data. The S1Weak folder contains the actual\n",
    "# training data. S1OtsuLabelWeak and S2IndexLabelWeak are different label sets generated by different algorithms. Use whichever you want.\n",
    "SOURCE = 'S1'\n",
    "# train_data = load_flood_train_data('flood_events/HandLabeled/S1Hand/', 'flood_events/HandLabeled/LabelHand/', source=SOURCE, select_bands=(np.arange(13)))\n",
    "train_data = load_flood_train_data('s1hand', 'labelhand', source=SOURCE, select_bands=(np.arange(13)))\n",
    "train_dataset = InMemoryDataset(train_data, processAndAugment, source=SOURCE, select_bands=(np.arange(13)), im_size=224)\n",
    "train_loader = torch.utils.data.DataLoader(train_dataset, batch_size=16, shuffle=True, sampler=None,\n",
    "                  batch_sampler=None, num_workers=0, collate_fn=None,\n",
    "                  pin_memory=True, drop_last=False, timeout=0,\n",
    "                  worker_init_fn=None)\n",
    "train_iter = iter(train_loader)\n",
    "\n",
    "# valid_data = load_flood_valid_data('flood_events/HandLabeled/S1Hand/', 'flood_events/HandLabeled/LabelHand/', source=SOURCE, select_bands=(np.arange(13))) \n",
    "valid_data = load_flood_valid_data('s1hand', 'labelhand', source=SOURCE, select_bands=(np.arange(13))) \n",
    "valid_dataset = InMemoryDataset(valid_data, processTestIm, source=SOURCE, select_bands=(np.arange(13)), im_size=224)\n",
    "valid_loader = torch.utils.data.DataLoader(valid_dataset, batch_size=4, shuffle=True, sampler=None,\n",
    "                  batch_sampler=None, num_workers=0, collate_fn=lambda x: (torch.cat([a[0] for a in x], 0), torch.cat([a[1] for a in x], 0)),\n",
    "                  pin_memory=True, drop_last=False, timeout=0,\n",
    "                  worker_init_fn=None)\n",
    "valid_iter = iter(valid_loader)"
   ]
  },
  {
   "cell_type": "code",
   "execution_count": 39,
   "id": "8e13f5e5-d16c-490b-9d0d-102c6e46ddc7",
   "metadata": {
    "execution": {
     "iopub.execute_input": "2022-12-09T20:39:47.425215Z",
     "iopub.status.busy": "2022-12-09T20:39:47.424512Z",
     "iopub.status.idle": "2022-12-09T20:39:47.433806Z",
     "shell.execute_reply": "2022-12-09T20:39:47.431803Z",
     "shell.execute_reply.started": "2022-12-09T20:39:47.425215Z"
    }
   },
   "outputs": [],
   "source": [
    "# >>>>>>>>>>>>>>>>>>>>>>> SECTION 8: Training Configurations <<<<<<<<<<<<<<<<<<<<<<< #\n",
    "# Specific to Transformer\n",
    "\n",
    "train_config = {\n",
    "    's1_input_channels': 2,\n",
    "    's2_input_channels': 13,\n",
    "    'finetuning': False, # If false, backbone layers is frozen and only the head is trained\n",
    "    'classifier_lr': 3e-6,\n",
    "    'learning_rate': 0.1,\n",
    "    'adam_betas': (0.9, 0.999), \n",
    "    'weight_decay': 0.001,\n",
    "    'dataloader_workers': 4,\n",
    "    'batch_size': 16,\n",
    "    'epochs': 10, \n",
    "}"
   ]
  },
  {
   "cell_type": "code",
   "execution_count": 40,
   "id": "c1886f49-dbc4-4a34-b04b-b9dec073fac8",
   "metadata": {
    "execution": {
     "iopub.execute_input": "2022-12-09T20:39:47.436239Z",
     "iopub.status.busy": "2022-12-09T20:39:47.435979Z",
     "iopub.status.idle": "2022-12-09T20:39:47.734935Z",
     "shell.execute_reply": "2022-12-09T20:39:47.733627Z",
     "shell.execute_reply.started": "2022-12-09T20:39:47.436239Z"
    }
   },
   "outputs": [],
   "source": [
    "# >>>>>>>>>>>>>>>>>>>>>>> SECTION 9: Load checkpoints & pre-trained model weights <<<<<<<<<<<<<<<<<<<<<<< #\n",
    "# Specific to Transformer\n",
    "\n",
    "# path to the checkpoint\n",
    "checkpoint = torch.load(\n",
    "    \"checkpoints/swin_t.pth\"\n",
    ") \n",
    "weights = checkpoint[\"state_dict\"]\n",
    "\n",
    "# Sentinel-1 stream weights\n",
    "s1_weights = {\n",
    "    k[len(\"backbone1.\"):]: v for k, v in weights.items() if \"backbone1\" in k\n",
    "}\n",
    "\n",
    "# Sentinel-2 stream weights\n",
    "s2_weights = {\n",
    "    k[len(\"backbone2.\"):]: v for k, v in weights.items() if \"backbone2\" in k\n",
    "}\n"
   ]
  },
  {
   "cell_type": "code",
   "execution_count": 41,
   "id": "0a8e660f-89b3-42df-9b23-a928a492e87f",
   "metadata": {
    "execution": {
     "iopub.execute_input": "2022-12-09T20:39:47.737179Z",
     "iopub.status.busy": "2022-12-09T20:39:47.736613Z",
     "iopub.status.idle": "2022-12-09T20:39:47.745015Z",
     "shell.execute_reply": "2022-12-09T20:39:47.743352Z",
     "shell.execute_reply.started": "2022-12-09T20:39:47.736888Z"
    }
   },
   "outputs": [
    {
     "name": "stdout",
     "output_type": "stream",
     "text": [
      "/\n"
     ]
    }
   ],
   "source": [
    "cd .."
   ]
  },
  {
   "cell_type": "code",
   "execution_count": 42,
   "id": "6d06d12a-db1e-4735-bf16-f189b9159bb9",
   "metadata": {
    "execution": {
     "iopub.execute_input": "2022-12-09T20:39:47.747416Z",
     "iopub.status.busy": "2022-12-09T20:39:47.747007Z",
     "iopub.status.idle": "2022-12-09T20:39:47.755160Z",
     "shell.execute_reply": "2022-12-09T20:39:47.753432Z",
     "shell.execute_reply.started": "2022-12-09T20:39:47.747373Z"
    }
   },
   "outputs": [
    {
     "name": "stdout",
     "output_type": "stream",
     "text": [
      "/notebooks\n"
     ]
    }
   ],
   "source": [
    "cd notebooks"
   ]
  },
  {
   "cell_type": "code",
   "execution_count": 43,
   "id": "36533d35-e434-46b1-b5ca-3c0c5bb69e59",
   "metadata": {
    "execution": {
     "iopub.execute_input": "2022-12-09T20:39:47.760180Z",
     "iopub.status.busy": "2022-12-09T20:39:47.759579Z",
     "iopub.status.idle": "2022-12-09T20:39:49.978358Z",
     "shell.execute_reply": "2022-12-09T20:39:49.976920Z",
     "shell.execute_reply.started": "2022-12-09T20:39:47.760142Z"
    }
   },
   "outputs": [
    {
     "data": {
      "text/plain": [
       "<All keys matched successfully>"
      ]
     },
     "execution_count": 43,
     "metadata": {},
     "output_type": "execute_result"
    }
   ],
   "source": [
    "# >>>>>>>>>>>>>>>>>>>>>>> SECTION 10: Load S1 & S2 backbones <<<<<<<<<<<<<<<<<<<<<<< #\n",
    "# Specific to Transformer\n",
    "\n",
    "from swin_transformer import DoubleSwinTransformerDownstream\n",
    "from utils import save_checkpoint_single_model, dotdictify\n",
    "from build import build_model\n",
    "\n",
    "if torch.cuda.is_available():\n",
    "    device = torch.device(\"cuda\")\n",
    "else:\n",
    "    device = torch.device(\"cpu:0\")\n",
    "    \n",
    "input_channels = train_config['s1_input_channels']\n",
    "\n",
    "with open(\"backbone_config.json\", \"r\") as fp:\n",
    "    swin_conf = dotdictify(json.load(fp))\n",
    "    \n",
    "s1_backbone = build_model(swin_conf.model_config)\n",
    "\n",
    "swin_conf.model_config.MODEL.SWIN.IN_CHANS = 13\n",
    "\n",
    "s2_backbone = build_model(swin_conf.model_config)\n",
    "\n",
    "s1_backbone.load_state_dict(s1_weights)\n",
    "s2_backbone.load_state_dict(s2_weights)\n",
    "\n"
   ]
  },
  {
   "cell_type": "code",
   "execution_count": 44,
   "id": "56cd3ffb-228d-4d23-9b68-7166f1898393",
   "metadata": {
    "execution": {
     "iopub.execute_input": "2022-12-09T20:39:49.980602Z",
     "iopub.status.busy": "2022-12-09T20:39:49.980224Z",
     "iopub.status.idle": "2022-12-09T20:39:49.996962Z",
     "shell.execute_reply": "2022-12-09T20:39:49.995176Z",
     "shell.execute_reply.started": "2022-12-09T20:39:49.980564Z"
    }
   },
   "outputs": [],
   "source": [
    "# >>>>>>>>>>>>>>>>>>>>>>> SECTION 11: Segmentation Transformer Function <<<<<<<<<<<<<<<<<<<<<<< #\n",
    "# Specific to Transformer\n",
    "# Set up to use S1 input data -> If want S2, follow the below comments\n",
    "\n",
    "\n",
    "from swin_transformer import SwinTransformerDecoder\n",
    "\n",
    "\n",
    "class SingleSwinTransformerSegmentation(nn.Module):\n",
    "    # replace encoder1 with encoder2 for S2\n",
    "    def __init__(self, encoder1, out_dim, device, freeze_layers=True):\n",
    "        super(SingleSwinTransformerSegmentation, self).__init__()\n",
    "\n",
    "        self.device = device\n",
    "        \n",
    "        # comment out backbone1 and uncomment backbone2 for S2\n",
    "        self.backbone1 = encoder1\n",
    "        # self.backbone2 = encoder2\n",
    "\n",
    "        # comment out decoder1 and uncomment decoder2 for S2\n",
    "        self.decoder1 = SwinTransformerDecoder(self.backbone1, out_dim, device)\n",
    "        # self.decoder2 = SwinTransformerDecoder(self.backbone2, out_dim, device)\n",
    "\n",
    "        # freeze all backbone layers\n",
    "        if freeze_layers:\n",
    "            for name, param in self.named_parameters():\n",
    "                if name.startswith(('backbone')):\n",
    "                    param.requires_grad = False\n",
    "\n",
    "    def forward(self, x):\n",
    "        # comment out x1 and uncomment x2 for S2\n",
    "        # _, x2, x_seg2 = self.backbone2.forward_features(x.to(self.device))\n",
    "        _, x1, x_seg1 = self.backbone1.forward_features(x.to(self.device))\n",
    "\n",
    "        # comment out x1 and uncomment x2 for S2\n",
    "        x1 = self.decoder1.forward_up_features(x1, x_seg1)\n",
    "        # x2 = self.decoder2.forward_up_features(x2, x_seg2)\n",
    "\n",
    "        # replace decoder1 with decoder2 and x1 with x2 for S2        \n",
    "        x = self.decoder1.up_x4(x1)\n",
    "        \n",
    "        output = {\n",
    "            'out': x\n",
    "        }\n",
    "\n",
    "        return output\n",
    "    \n",
    " \n",
    "# this section is only useful if we want to use a combined version of S1 and S2 data\n",
    "class DoubleSwinTransformerSegmentation(nn.Module):\n",
    "    def __init__(self, encoder1, encoder2, out_dim, device, freeze_layers=False):\n",
    "        super(DoubleSwinTransformerSegmentation, self).__init__()\n",
    "\n",
    "        self.device = device\n",
    "\n",
    "        self.backbone1 = encoder1\n",
    "        self.backbone2 = encoder2\n",
    "\n",
    "        self.decoder1 = SwinTransformerDecoder(self.backbone1, out_dim, device)\n",
    "        self.decoder2 = SwinTransformerDecoder(self.backbone2, out_dim, device)\n",
    "\n",
    "        # freeze all backbone layers\n",
    "        if freeze_layers:\n",
    "            for name, param in self.named_parameters():\n",
    "                if name.startswith(('backbone')):\n",
    "                    param.requires_grad = False\n",
    "\n",
    "    def forward(self, x):\n",
    "        _, x2, x_seg2 = self.backbone2.forward_features(x[\"s2\"].to(self.device))\n",
    "        _, x1, x_seg1 = self.backbone1.forward_features(x[\"s1\"].to(self.device))\n",
    "\n",
    "        x1 = self.decoder1.forward_up_features(x1, x_seg1)\n",
    "        x2 = self.decoder2.forward_up_features(x2, x_seg2)\n",
    "\n",
    "        x = torch.cat([x1, x2], dim=-1)\n",
    "\n",
    "        output = self.decoder1.up_x4(x)\n",
    "\n",
    "        return output\n",
    "    "
   ]
  },
  {
   "cell_type": "code",
   "execution_count": 45,
   "id": "57813df6-41a6-494a-84d8-9b00680b6a77",
   "metadata": {
    "execution": {
     "iopub.execute_input": "2022-12-09T20:39:50.000014Z",
     "iopub.status.busy": "2022-12-09T20:39:49.999356Z",
     "iopub.status.idle": "2022-12-09T20:39:50.598008Z",
     "shell.execute_reply": "2022-12-09T20:39:50.597117Z",
     "shell.execute_reply.started": "2022-12-09T20:39:49.999936Z"
    }
   },
   "outputs": [],
   "source": [
    "# >>>>>>>>>>>>>>>>>>>>>>> SECTION 12: Set model <<<<<<<<<<<<<<<<<<<<<<< #\n",
    "# Specific to Transformer\n",
    "# If want to use S2, replace s1_backbone with s2_backbone\n",
    "# If want to freeze layers of Transformer and only train segmentation head, set freeze_layers to True and make sure train_config['fine_tuning'] is set to False\n",
    "\n",
    "\n",
    "model = SingleSwinTransformerSegmentation(\n",
    "    s1_backbone, out_dim=2, device=device,\n",
    "    freeze_layers=True\n",
    ")\n",
    "\n",
    "net = model \n",
    "net = net.to(device)\n"
   ]
  },
  {
   "cell_type": "code",
   "execution_count": 46,
   "id": "80eb90ab-c3f5-4b87-bf2b-4c7ab88c797f",
   "metadata": {
    "execution": {
     "iopub.execute_input": "2022-12-09T20:39:50.599486Z",
     "iopub.status.busy": "2022-12-09T20:39:50.599203Z",
     "iopub.status.idle": "2022-12-09T20:39:50.611293Z",
     "shell.execute_reply": "2022-12-09T20:39:50.609479Z",
     "shell.execute_reply.started": "2022-12-09T20:39:50.599446Z"
    }
   },
   "outputs": [
    {
     "name": "stdout",
     "output_type": "stream",
     "text": [
      "Frozen backbone\n"
     ]
    }
   ],
   "source": [
    "# >>>>>>>>>>>>>>>>>>>>>>> SECTION 13: Set model parameters <<<<<<<<<<<<<<<<<<<<<<< #\n",
    "# Specific to Transformer\n",
    "\n",
    "if train_config['finetuning']:\n",
    "    # train all parameters (backbone + classifier head)\n",
    "    param_backbone = []\n",
    "    param_head = []\n",
    "    for p in model.parameters():\n",
    "        if p.requires_grad:\n",
    "            param_head.append(p)\n",
    "        else:\n",
    "            param_backbone.append(p)\n",
    "        p.requires_grad = True\n",
    "    # parameters = model.parameters()\n",
    "    parameters = [\n",
    "        {\"params\": param_backbone},  # train with default lr\n",
    "        {\n",
    "            \"params\": param_head,\n",
    "            \"lr\": train_config['classifier_lr'],\n",
    "        },  # train with classifier lr\n",
    "    ]\n",
    "    print(\"Finetuning\")\n",
    "\n",
    "else:\n",
    "    # train only final linear layer for SSL methods\n",
    "    print(\"Frozen backbone\")\n",
    "    parameters = list(filter(lambda p: p.requires_grad, model.parameters()))"
   ]
  },
  {
   "cell_type": "code",
   "execution_count": 47,
   "id": "cc1b9a7b-7c14-48c7-9868-b7d6b912866f",
   "metadata": {
    "execution": {
     "iopub.execute_input": "2022-12-09T20:39:50.612737Z",
     "iopub.status.busy": "2022-12-09T20:39:50.612359Z",
     "iopub.status.idle": "2022-12-09T20:39:50.619973Z",
     "shell.execute_reply": "2022-12-09T20:39:50.618070Z",
     "shell.execute_reply.started": "2022-12-09T20:39:50.612710Z"
    }
   },
   "outputs": [],
   "source": [
    "# >>>>>>>>>>>>>>>>>>>>>>> SECTION 14: Set optimizer <<<<<<<<<<<<<<<<<<<<<<< #\n",
    "# Not specific to Transformer\n",
    "\n",
    "optimizer = torch.optim.Adam(\n",
    "    parameters,\n",
    "    lr=train_config['learning_rate'],\n",
    "    betas=train_config['adam_betas'],\n",
    "    weight_decay=train_config['weight_decay'],\n",
    ")\n",
    "\n",
    "# optimizer = torch.optim.AdamW(parameters,lr=train_config['learning_rate'])\n"
   ]
  },
  {
   "cell_type": "code",
   "execution_count": 48,
   "id": "45d3ed76-577b-4702-bfcb-b85ed96f6520",
   "metadata": {
    "execution": {
     "iopub.execute_input": "2022-12-09T20:39:50.621814Z",
     "iopub.status.busy": "2022-12-09T20:39:50.621461Z",
     "iopub.status.idle": "2022-12-09T20:39:50.636401Z",
     "shell.execute_reply": "2022-12-09T20:39:50.635237Z",
     "shell.execute_reply.started": "2022-12-09T20:39:50.621789Z"
    }
   },
   "outputs": [],
   "source": [
    "# >>>>>>>>>>>>>>>>>>>>>>> SECTION 15: Set loss function & scheduler <<<<<<<<<<<<<<<<<<<<<<< #\n",
    "# Not specific to Transformer\n",
    "\n",
    "#https://www.kaggle.com/code/bigironsphere/loss-function-library-keras-pytorch/notebook\n",
    "'''\n",
    "class DiceLoss(nn.Module):\n",
    "    def __init__(self, weight=None, size_average=True):\n",
    "        super(DiceLoss, self).__init__()\n",
    "\n",
    "    def forward(self, output, target, smooth=1):\n",
    "        if output.shape[1] == 1:\n",
    "            output = fun.sigmoid(output)\n",
    "        else:\n",
    "            output = fun.softmax(output, dim=1)[:,1]\n",
    "\n",
    "        #flatten label and prediction tensors\n",
    "        output = output.flatten()\n",
    "        target = target.flatten()\n",
    "        no_ignore = target.ne(255).cuda()\n",
    "        output = output.masked_select(no_ignore)\n",
    "        target = target.masked_select(no_ignore)\n",
    "        TP = torch.sum(output * target)\n",
    "        return 1 - ((2. * TP + smooth) / (output.sum() + target.sum() + smooth))\n",
    "'''\n",
    "\n",
    "\n",
    "class IOU(nn.Module):\n",
    "    def __init__(self, weight=None, size_average=True):\n",
    "        super(IOU, self).__init__()\n",
    "\n",
    "    def forward(self, output, target, smooth=1):\n",
    "        if output.shape[1] == 1:\n",
    "            output = fun.sigmoid(output)\n",
    "        else:\n",
    "            output = fun.softmax(output, dim=1)[:,1]    \n",
    "        \n",
    "        #flatten label and prediction tensors\n",
    "        output = output.flatten()\n",
    "        target = target.flatten()\n",
    "        no_ignore = target.ne(255).cuda()\n",
    "        output = output.masked_select(no_ignore)\n",
    "        target = target.masked_select(no_ignore)\n",
    "        intersection = torch.sum(output * target)\n",
    "        union = torch.sum(target) + torch.sum(output) - intersection\n",
    "        return 1 - ((intersection + .0000001) / (union + .0000001))\n",
    "\n",
    "\n",
    "'''\n",
    "# Modification to Dice loss to correct class imbalance\n",
    "class FocalTverskyLoss(nn.Module):\n",
    "    def __init__(self, weight=None, size_average=True, smooth=1, alpha = .4, beta = .6, gamma = 1.5):\n",
    "        super(FocalTverskyLoss, self).__init__()\n",
    "        self.smooth = smooth\n",
    "        self.alpha = alpha\n",
    "        self.beta = beta\n",
    "        self.gamma = gamma\n",
    "\n",
    "    def forward(self, output, target):\n",
    "        if output.shape[1] == 1:\n",
    "            output = fun.sigmoid(output)\n",
    "        else:\n",
    "            output = fun.softmax(output, dim=1)[:,1]       \n",
    "        \n",
    "        #flatten label and prediction tensors\n",
    "        output = output.flatten()\n",
    "        target = target.flatten()\n",
    "        no_ignore = target.ne(255).cuda()\n",
    "        output = output.masked_select(no_ignore)\n",
    "        target = target.masked_select(no_ignore)\n",
    "        TP = torch.sum(output * target)\n",
    "        FP = torch.sum((1 - target) * output)\n",
    "        FN = torch.sum(target * (1 - output))\n",
    "        return (1 - ((TP + self.smooth) / (TP + (self.alpha * FN) + (self.beta * FP) + self.smooth)))**self.gamma\n",
    "'''\n",
    "\n",
    "# criterion = torch.nn.CrossEntropyLoss(ignore_index=255, reduction=\"mean\").to(device)\n",
    "criterion = IOU()\n",
    "scheduler = torch.optim.lr_scheduler.CosineAnnealingWarmRestarts(optimizer, len(train_loader) * 10, T_mult=2, eta_min=0, last_epoch=-1)\n",
    "\n"
   ]
  },
  {
   "cell_type": "code",
   "execution_count": 49,
   "id": "1687de0b-36cf-4c27-9d67-fe76ce67b484",
   "metadata": {
    "execution": {
     "iopub.execute_input": "2022-12-09T20:39:50.638766Z",
     "iopub.status.busy": "2022-12-09T20:39:50.638439Z",
     "iopub.status.idle": "2022-12-09T20:39:50.655978Z",
     "shell.execute_reply": "2022-12-09T20:39:50.654052Z",
     "shell.execute_reply.started": "2022-12-09T20:39:50.638739Z"
    }
   },
   "outputs": [],
   "source": [
    "# >>>>>>>>>>>>>>>>>>>>>>> SECTION 16: Compute IOU Functions <<<<<<<<<<<<<<<<<<<<<<< #\n",
    "# Not specific to Transformer\n",
    "\n",
    "def computeIOU(output, target):\n",
    "  output = torch.argmax(output, dim=1).flatten() \n",
    "  target = target.flatten()\n",
    "  \n",
    "  no_ignore = target.ne(255).to(device)\n",
    "  output = output.masked_select(no_ignore)\n",
    "  target = target.masked_select(no_ignore)\n",
    "  intersection = torch.sum(output * target)\n",
    "  union = torch.sum(target) + torch.sum(output) - intersection\n",
    "  iou = (intersection + .0000001) / (union + .0000001)\n",
    "  \n",
    "  if iou != iou:\n",
    "    print(\"failed, replacing with 0\")\n",
    "    iou = torch.tensor(0).float()\n",
    "  \n",
    "  return iou\n",
    "  \n",
    "def computeAccuracy(output, target):\n",
    "  output = torch.argmax(output, dim=1).flatten() \n",
    "  target = target.flatten()\n",
    "  \n",
    "  no_ignore = target.ne(255).to(device)\n",
    "  output = output.masked_select(no_ignore)\n",
    "  target = target.masked_select(no_ignore)\n",
    "  correct = torch.sum(output.eq(target))\n",
    "  \n",
    "  return correct.float() / len(target)\n",
    "\n",
    "def truePositives(output, target):\n",
    "  output = torch.argmax(output, dim=1).flatten() \n",
    "  target = target.flatten()\n",
    "  no_ignore = target.ne(255).to(device)\n",
    "  output = output.masked_select(no_ignore)\n",
    "  target = target.masked_select(no_ignore)\n",
    "  correct = torch.sum(output * target)\n",
    "  \n",
    "  return correct\n",
    "\n",
    "def trueNegatives(output, target):\n",
    "  output = torch.argmax(output, dim=1).flatten() \n",
    "  target = target.flatten()\n",
    "  no_ignore = target.ne(255).to(device)\n",
    "  output = output.masked_select(no_ignore)\n",
    "  target = target.masked_select(no_ignore)\n",
    "  output = (output == 0)\n",
    "  target = (target == 0)\n",
    "  correct = torch.sum(output * target)\n",
    "  \n",
    "  return correct\n",
    "\n",
    "def falsePositives(output, target):\n",
    "  output = torch.argmax(output, dim=1).flatten() \n",
    "  target = target.flatten()\n",
    "  no_ignore = target.ne(255).cuda()\n",
    "  output = output.masked_select(no_ignore)\n",
    "  target = target.masked_select(no_ignore)\n",
    "  output = (output == 1)\n",
    "  target = (target == 0)\n",
    "  correct = torch.sum(output * target)\n",
    "  \n",
    "  return correct\n",
    "\n",
    "def falseNegatives(output, target):\n",
    "  output = torch.argmax(output, dim=1).flatten() \n",
    "  target = target.flatten()\n",
    "  no_ignore = target.ne(255).cuda()\n",
    "  output = output.masked_select(no_ignore)\n",
    "  target = target.masked_select(no_ignore)\n",
    "  output = (output == 0)\n",
    "  target = (target == 1)\n",
    "  correct = torch.sum(output * target)\n",
    "  \n",
    "  return correct"
   ]
  },
  {
   "cell_type": "code",
   "execution_count": 50,
   "id": "261b245d-bd57-4a90-9f3c-a36434866a7f",
   "metadata": {
    "execution": {
     "iopub.execute_input": "2022-12-09T20:39:50.658488Z",
     "iopub.status.busy": "2022-12-09T20:39:50.657944Z",
     "iopub.status.idle": "2022-12-09T20:39:50.669466Z",
     "shell.execute_reply": "2022-12-09T20:39:50.668136Z",
     "shell.execute_reply.started": "2022-12-09T20:39:50.658449Z"
    }
   },
   "outputs": [],
   "source": [
    "# >>>>>>>>>>>>>>>>>>>>>>> SECTION 17: Define training loop <<<<<<<<<<<<<<<<<<<<<<< #\n",
    "# Not specific to Transformer\n",
    "\n",
    "training_losses = []\n",
    "training_accuracies = []\n",
    "training_ious = []\n",
    "\n",
    "def train_loop(inputs, labels, net, optimizer, scheduler):\n",
    "  global running_loss\n",
    "  global running_iou\n",
    "  global running_count\n",
    "  global running_accuracy\n",
    "  \n",
    "  # zero the parameter gradients\n",
    "  optimizer.zero_grad()\n",
    "  net = net.to(device)\n",
    "  \n",
    "  # forward + backward + optimize\n",
    "  outputs = net(inputs.to(device))\n",
    "  loss = criterion(outputs[\"out\"], labels.long().to(device))\n",
    "  loss.backward()\n",
    "  optimizer.step()\n",
    "  scheduler.step()\n",
    "\n",
    "  running_loss += loss\n",
    "  running_iou += computeIOU(outputs[\"out\"], labels.to(device))\n",
    "  running_accuracy += computeAccuracy(outputs[\"out\"], labels.to(device))\n",
    "  running_count += 1"
   ]
  },
  {
   "cell_type": "code",
   "execution_count": 51,
   "id": "abbaf573-c406-4145-ab58-2fc11dc64bcf",
   "metadata": {
    "execution": {
     "iopub.execute_input": "2022-12-09T20:39:50.671410Z",
     "iopub.status.busy": "2022-12-09T20:39:50.671096Z",
     "iopub.status.idle": "2022-12-09T20:39:50.690049Z",
     "shell.execute_reply": "2022-12-09T20:39:50.688579Z",
     "shell.execute_reply.started": "2022-12-09T20:39:50.671405Z"
    }
   },
   "outputs": [],
   "source": [
    "# >>>>>>>>>>>>>>>>>>>>>>> SECTION 18: Define validation loop <<<<<<<<<<<<<<<<<<<<<<< #\n",
    "# Not specific to Transformer\n",
    "\n",
    "from time import time\n",
    "valid_losses = []\n",
    "valid_accuracies = []\n",
    "valid_ious = []\n",
    "RUNNAME = 'test'\n",
    "\n",
    "def validation_loop(validation_data_loader, net):\n",
    "  global running_loss\n",
    "  global running_iou\n",
    "  global running_count\n",
    "  global running_accuracy\n",
    "  global max_valid_iou\n",
    "\n",
    "  global training_losses\n",
    "  global training_accuracies\n",
    "  global training_ious\n",
    "  global valid_losses\n",
    "  global valid_accuracies\n",
    "  global valid_ious\n",
    "\n",
    "  net = net.eval()\n",
    "  net = net.to(device)\n",
    "  count = 0\n",
    "  iou = 0\n",
    "  loss = 0\n",
    "  accuracy = 0\n",
    "  with torch.no_grad():\n",
    "      for (images, labels) in validation_data_loader:\n",
    "          net = net.to(device)\n",
    "          outputs = net(images.to(device))\n",
    "          valid_loss = criterion(outputs[\"out\"], labels.long().to(device))\n",
    "          valid_iou = computeIOU(outputs[\"out\"], labels.to(device))\n",
    "          valid_accuracy = computeAccuracy(outputs[\"out\"], labels.to(device))\n",
    "          iou += valid_iou\n",
    "          loss += valid_loss\n",
    "          accuracy += valid_accuracy\n",
    "          count += 1\n",
    "\n",
    "  iou = iou / count\n",
    "  accuracy = accuracy / count\n",
    "\n",
    "  if iou > max_valid_iou:\n",
    "    pass\n",
    "    start = time()\n",
    "    max_valid_iou = iou\n",
    "    # save_path = os.path.join(\"checkpoints\", \"{}_{}_{}.cp\".format(RUNNAME, i, iou.item()))\n",
    "    save_path = os.path.join(\"chkpoints\", \"{}_{}_{}.cp\".format(RUNNAME, i, iou.item()))\n",
    "    # optim_save_path = os.path.join(\"checkpoints\", \"{}_{}_{}_{}.cp\".format(RUNNAME, i, iou.item(), 'optim'))\n",
    "    optim_save_path = os.path.join(\"chkpoints\", \"{}_{}_{}_{}.cp\".format(RUNNAME, i, iou.item(), 'optim'))\n",
    "    # scheduler_save_path = os.path.join(\"checkpoints\", \"{}_{}_{}_{}.cp\".format(RUNNAME, i, iou.item(), 'sheduler'))\n",
    "    scheduler_save_path = os.path.join(\"chkpoints\", \"{}_{}_{}_{}.cp\".format(RUNNAME, i, iou.item(), 'sheduler'))\n",
    "    torch.save(net.state_dict(), save_path)\n",
    "    torch.save(optimizer.state_dict(), optim_save_path)\n",
    "    torch.save(scheduler.state_dict(), scheduler_save_path)\n",
    "    print(\"model saved at\", save_path)\n",
    "    print('time:', time() - start)\n",
    "\n",
    "  loss = loss / count\n",
    "  print(\"Training Loss:\", running_loss / running_count)\n",
    "  print(\"Training IOU:\", running_iou / running_count)\n",
    "  print(\"Training Accuracy:\", running_accuracy / running_count)\n",
    "  print(\"Validation Loss:\", loss)\n",
    "  print(\"Validation IOU:\", iou)\n",
    "  print(\"Validation Accuracy:\", accuracy)\n",
    "\n",
    "\n",
    "  \"\"\"training_losses.append(running_loss / running_count)\n",
    "  training_accuracies.append(running_accuracy / running_count)\n",
    "  training_ious.append(running_iou / running_count)\n",
    "  valid_losses.append(loss)\n",
    "  valid_accuracies.append(accuracy)\n",
    "  valid_ious.append(iou)\"\"\"\n",
    "  training_losses.append(running_loss.detach().cpu() / running_count)\n",
    "  training_accuracies.append(running_accuracy.detach().cpu() / running_count)\n",
    "  training_ious.append(running_iou.detach().cpu() / running_count)\n",
    "  valid_losses.append(loss.detach().cpu())\n",
    "  valid_accuracies.append(accuracy.detach().cpu())\n",
    "  valid_ious.append(iou.detach().cpu())"
   ]
  },
  {
   "cell_type": "code",
   "execution_count": 52,
   "id": "3a04409b-641c-4b55-8bb2-c391136dabf6",
   "metadata": {
    "execution": {
     "iopub.execute_input": "2022-12-09T20:39:50.691789Z",
     "iopub.status.busy": "2022-12-09T20:39:50.691407Z",
     "iopub.status.idle": "2022-12-09T20:39:50.701048Z",
     "shell.execute_reply": "2022-12-09T20:39:50.699802Z",
     "shell.execute_reply.started": "2022-12-09T20:39:50.691745Z"
    }
   },
   "outputs": [],
   "source": [
    "# >>>>>>>>>>>>>>>>>>>>>>> SECTION 19: Define test loop <<<<<<<<<<<<<<<<<<<<<<< #\n",
    "# Not specific to Transformer\n",
    "\n",
    "def test_loop(test_data_loader, net):\n",
    "  net = net.eval()\n",
    "  net = net.to(device)\n",
    "  count = 0\n",
    "  iou = 0\n",
    "  loss = 0\n",
    "  accuracy = 0\n",
    "  with torch.no_grad():\n",
    "      for (images, labels) in tqdm(test_data_loader):\n",
    "          net = net.to(device)\n",
    "          outputs = net(images.to(device))\n",
    "          valid_loss = criterion(outputs[\"out\"], labels.long().to(device))\n",
    "          valid_iou = computeIOU(outputs[\"out\"], labels.to(device))\n",
    "          iou += valid_iou\n",
    "          accuracy += computeAccuracy(outputs[\"out\"], labels.to(device))\n",
    "          count += 1\n",
    "\n",
    "  iou = iou / count\n",
    "  print(\"Test IOU:\", iou)\n",
    "  print(\"Test Accuracy:\", accuracy / count)"
   ]
  },
  {
   "cell_type": "code",
   "execution_count": 53,
   "id": "ea934a57-313d-4464-b64f-67fc616589aa",
   "metadata": {
    "execution": {
     "iopub.execute_input": "2022-12-09T20:39:50.702721Z",
     "iopub.status.busy": "2022-12-09T20:39:50.702365Z",
     "iopub.status.idle": "2022-12-09T20:39:50.733053Z",
     "shell.execute_reply": "2022-12-09T20:39:50.730909Z",
     "shell.execute_reply.started": "2022-12-09T20:39:50.702683Z"
    }
   },
   "outputs": [],
   "source": [
    "# >>>>>>>>>>>>>>>>>>>>>>> SECTION 20: Define train & validation scheme <<<<<<<<<<<<<<<<<<<<<<< #\n",
    "# Not specific to Transformer\n",
    "\n",
    "from tqdm.notebook import tqdm\n",
    "from IPython.display import clear_output\n",
    "\n",
    "running_loss = 0\n",
    "running_iou = 0\n",
    "running_count = 0\n",
    "running_accuracy = 0\n",
    "\n",
    "training_losses = []\n",
    "training_accuracies = []\n",
    "training_ious = []\n",
    "valid_losses = []\n",
    "valid_accuracies = []\n",
    "valid_ious = []\n",
    "\n",
    "\n",
    "def train_epoch(net, optimizer, scheduler, train_iter):\n",
    "  for (inputs, labels) in tqdm(train_iter):\n",
    "    train_loop(inputs.to(device), labels.to(device), net.to(device), optimizer, scheduler)\n",
    " \n",
    "\n",
    "def train_validation_loop(net, optimizer, scheduler, train_loader,\n",
    "                          valid_loader, num_epochs, cur_epoch):\n",
    "  global running_loss\n",
    "  global running_iou\n",
    "  global running_count\n",
    "  global running_accuracy\n",
    "  net = net.train()\n",
    "  running_loss = 0\n",
    "  running_iou = 0\n",
    "  running_count = 0\n",
    "  running_accuracy = 0\n",
    "  \n",
    "  for i in tqdm(range(num_epochs)):\n",
    "    train_iter = iter(train_loader)\n",
    "    train_epoch(net, optimizer, scheduler, train_iter)\n",
    "  clear_output()\n",
    "  \n",
    "  print(\"Current Epoch:\", cur_epoch)\n",
    "  validation_loop(iter(valid_loader), net)"
   ]
  },
  {
   "cell_type": "code",
   "execution_count": 54,
   "id": "b77d0c30-91e2-4061-a600-58458c51b43a",
   "metadata": {
    "execution": {
     "iopub.execute_input": "2022-12-09T20:39:50.735304Z",
     "iopub.status.busy": "2022-12-09T20:39:50.734819Z",
     "iopub.status.idle": "2022-12-09T20:39:50.743729Z",
     "shell.execute_reply": "2022-12-09T20:39:50.742454Z",
     "shell.execute_reply.started": "2022-12-09T20:39:50.735292Z"
    }
   },
   "outputs": [
    {
     "name": "stdout",
     "output_type": "stream",
     "text": [
      "/\n"
     ]
    }
   ],
   "source": [
    "cd .."
   ]
  },
  {
   "cell_type": "code",
   "execution_count": 55,
   "id": "ff59739f-a553-4cfd-b195-4da3db5e0925",
   "metadata": {
    "execution": {
     "iopub.execute_input": "2022-12-09T20:39:50.745604Z",
     "iopub.status.busy": "2022-12-09T20:39:50.745306Z",
     "iopub.status.idle": "2022-12-09T20:39:50.752657Z",
     "shell.execute_reply": "2022-12-09T20:39:50.751549Z",
     "shell.execute_reply.started": "2022-12-09T20:39:50.745577Z"
    }
   },
   "outputs": [
    {
     "name": "stdout",
     "output_type": "stream",
     "text": [
      "/storage\n"
     ]
    }
   ],
   "source": [
    "cd storage"
   ]
  },
  {
   "cell_type": "code",
   "execution_count": 56,
   "id": "3306c7f1-cbf2-487b-9acd-67adb1bf0040",
   "metadata": {
    "execution": {
     "iopub.execute_input": "2022-12-09T20:39:50.754755Z",
     "iopub.status.busy": "2022-12-09T20:39:50.754284Z",
     "iopub.status.idle": "2022-12-09T20:39:51.590610Z",
     "shell.execute_reply": "2022-12-09T20:39:51.588999Z",
     "shell.execute_reply.started": "2022-12-09T20:39:50.754709Z"
    }
   },
   "outputs": [],
   "source": [
    "!sudo mkdir chkpoints"
   ]
  },
  {
   "cell_type": "code",
   "execution_count": null,
   "id": "3bb7b739-69f8-481f-b0cf-93c6c7071b6a",
   "metadata": {
    "execution": {
     "iopub.execute_input": "2022-12-09T20:39:51.592896Z",
     "iopub.status.busy": "2022-12-09T20:39:51.592514Z"
    }
   },
   "outputs": [
    {
     "name": "stdout",
     "output_type": "stream",
     "text": [
      "Current Epoch: 3\n",
      "Training Loss: tensor(0.5158, device='cuda:0', grad_fn=<DivBackward0>)\n",
      "Training IOU: tensor(0.4842, device='cuda:0')\n",
      "Training Accuracy: tensor(0.9456, device='cuda:0')\n",
      "Validation Loss: tensor(0.5416, device='cuda:0')\n",
      "Validation IOU: tensor(0.4584, device='cuda:0')\n",
      "Validation Accuracy: tensor(0.9354, device='cuda:0')\n"
     ]
    },
    {
     "data": {
      "image/png": "[encoded data removed]",
      "text/plain": [
       "<Figure size 432x288 with 1 Axes>"
      ]
     },
     "metadata": {
      "needs_background": "light"
     },
     "output_type": "display_data"
    },
    {
     "data": {
      "text/plain": [
       "None"
      ]
     },
     "metadata": {},
     "output_type": "display_data"
    },
    {
     "name": "stdout",
     "output_type": "stream",
     "text": [
      "max valid iou: tensor(0.5001, device='cuda:0')\n"
     ]
    },
    {
     "data": {
      "application/vnd.jupyter.widget-view+json": {
       "model_id": "e918037f86c4451fb0c43d4bf2ac7dd9",
       "version_major": 2,
       "version_minor": 0
      },
      "text/plain": [
       "  0%|          | 0/1 [00:00<?, ?it/s]"
      ]
     },
     "metadata": {},
     "output_type": "display_data"
    },
    {
     "data": {
      "application/vnd.jupyter.widget-view+json": {
       "model_id": "4ce78db840a942808d859053294376e6",
       "version_major": 2,
       "version_minor": 0
      },
      "text/plain": [
       "  0%|          | 0/16 [00:00<?, ?it/s]"
      ]
     },
     "metadata": {},
     "output_type": "display_data"
    }
   ],
   "source": [
    "# >>>>>>>>>>>>>>>>>>>>>>> SECTION 21: Train model & assess metrics <<<<<<<<<<<<<<<<<<<<<<< #\n",
    "# Not specific to Transformer\n",
    "\n",
    "import os\n",
    "from IPython.display import display\n",
    "import matplotlib.pyplot as plt\n",
    "\n",
    "max_valid_iou = 0\n",
    "start = 0\n",
    "\n",
    "epochs = []\n",
    "training_losses = []\n",
    "training_accuracies = []\n",
    "training_ious = []\n",
    "valid_losses = []\n",
    "valid_accuracies = []\n",
    "valid_ious = []\n",
    "\n",
    "\n",
    "for i in range(start, train_config['epochs']):\n",
    "  train_validation_loop(net, optimizer, scheduler, train_loader, valid_loader, 1, i)\n",
    "  epochs.append(i)\n",
    "  x = epochs\n",
    "  plt.plot(x, training_losses, label='training losses')\n",
    "  plt.plot(x, training_accuracies, 'tab:orange', label='training accuracy')\n",
    "  plt.plot(x, training_ious, 'tab:purple', label='training iou')\n",
    "  plt.plot(x, valid_losses, label='valid losses')\n",
    "  plt.plot(x, valid_accuracies, 'tab:red',label='valid accuracy')\n",
    "  plt.plot(x, valid_ious, 'tab:green',label='valid iou')\n",
    "  plt.legend(loc=\"upper left\")\n",
    "\n",
    "  display(plt.show())\n",
    "\n",
    "  print(\"max valid iou:\", max_valid_iou)"
   ]
  },
  {
   "cell_type": "code",
   "execution_count": null,
   "id": "3ace6eb6-6306-4558-8d4e-633899009e03",
   "metadata": {},
   "outputs": [],
   "source": [
    "rm -r chkpoints"
   ]
  }
 ],
 "metadata": {
  "kernelspec": {
   "display_name": "Python 3 (ipykernel)",
   "language": "python",
   "name": "python3"
  },
  "language_info": {
   "codemirror_mode": {
    "name": "ipython",
    "version": 3
   },
   "file_extension": ".py",
   "mimetype": "text/x-python",
   "name": "python",
   "nbconvert_exporter": "python",
   "pygments_lexer": "ipython3",
   "version": "3.9.13"
  }
 },
 "nbformat": 4,
 "nbformat_minor": 5
}
